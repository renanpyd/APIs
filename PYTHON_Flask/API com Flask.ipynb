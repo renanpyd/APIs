{
 "cells": [
  {
   "cell_type": "code",
   "execution_count": 1,
   "id": "cc360f9e",
   "metadata": {},
   "outputs": [
    {
     "name": "stdout",
     "output_type": "stream",
     "text": [
      "Requirement already satisfied: flask in c:\\users\\renan\\anaconda3\\lib\\site-packages (2.2.5)\n",
      "Requirement already satisfied: Werkzeug>=2.2.2 in c:\\users\\renan\\anaconda3\\lib\\site-packages (from flask) (2.2.3)\n",
      "Requirement already satisfied: Jinja2>=3.0 in c:\\users\\renan\\anaconda3\\lib\\site-packages (from flask) (3.1.3)\n",
      "Requirement already satisfied: itsdangerous>=2.0 in c:\\users\\renan\\anaconda3\\lib\\site-packages (from flask) (2.0.1)\n",
      "Requirement already satisfied: click>=8.0 in c:\\users\\renan\\anaconda3\\lib\\site-packages (from flask) (8.1.7)\n",
      "Requirement already satisfied: colorama in c:\\users\\renan\\anaconda3\\lib\\site-packages (from click>=8.0->flask) (0.4.6)\n",
      "Requirement already satisfied: MarkupSafe>=2.0 in c:\\users\\renan\\anaconda3\\lib\\site-packages (from Jinja2>=3.0->flask) (2.1.3)\n"
     ]
    }
   ],
   "source": [
    "!pip install flask"
   ]
  },
  {
   "cell_type": "code",
   "execution_count": null,
   "id": "1f1565ea",
   "metadata": {},
   "outputs": [],
   "source": [
    "!pip install httpie"
   ]
  },
  {
   "cell_type": "code",
   "execution_count": null,
   "id": "7a0dc05b",
   "metadata": {},
   "outputs": [],
   "source": [
    "# importando o objeto Flask da biblioteca flask\n",
    "from flask import Flask\n",
    "\n",
    "server = Flask(__name__)\n",
    "\n",
    "@server.get('/recurso')\n",
    "def responde_estado():\n",
    "    return'OK'\n",
    "\n",
    "server.run()"
   ]
  },
  {
   "cell_type": "code",
   "execution_count": null,
   "id": "539717e8",
   "metadata": {},
   "outputs": [],
   "source": [
    "http get http://localhost:5000/recurso"
   ]
  },
  {
   "cell_type": "code",
   "execution_count": null,
   "id": "2db0192f",
   "metadata": {},
   "outputs": [],
   "source": []
  }
 ],
 "metadata": {
  "kernelspec": {
   "display_name": "Python 3 (ipykernel)",
   "language": "python",
   "name": "python3"
  },
  "language_info": {
   "codemirror_mode": {
    "name": "ipython",
    "version": 3
   },
   "file_extension": ".py",
   "mimetype": "text/x-python",
   "name": "python",
   "nbconvert_exporter": "python",
   "pygments_lexer": "ipython3",
   "version": "3.11.7"
  }
 },
 "nbformat": 4,
 "nbformat_minor": 5
}
